{
 "cells": [
  {
   "cell_type": "code",
   "execution_count": 4,
   "metadata": {},
   "outputs": [
    {
     "name": "stdout",
     "output_type": "stream",
     "text": [
      "      w2         c1         c2\n",
      "0      0  51.282051  51.153846\n",
      "1    100  51.282051  51.153846\n",
      "2  10000  51.282051  51.153846\n",
      "   beta     r         c1         c2\n",
      "0  0.90  0.03  52.631579  48.789474\n",
      "1  0.90  0.05  52.631579  49.736842\n",
      "2  0.90  0.08  52.631579  51.157895\n",
      "3  0.95  0.03  51.282051  50.179487\n",
      "4  0.95  0.05  51.282051  51.153846\n",
      "5  0.95  0.08  51.282051  52.615385\n",
      "6  1.00  0.03  50.000000  51.500000\n",
      "7  1.00  0.05  50.000000  52.500000\n",
      "8  1.00  0.08  50.000000  54.000000\n"
     ]
    }
   ],
   "source": [
    "import numpy as np\n",
    "import pandas as pd\n",
    "from scipy.optimize import fsolve\n",
    "\n",
    "# Parameters\n",
    "beta = 0.95  # Discount factor\n",
    "r = 0.05     # Interest rate\n",
    "w1 = 100     # Initial wealth\n",
    "\n",
    "# Function to solve for c1 and c2 with input validation\n",
    "def equations(vars, w1, w2, beta, r):\n",
    "    if w1 < 0 or w2 < 0 or r < 0:\n",
    "        raise ValueError(\"w1, w2, and r must be non-negative.\")\n",
    "    c1, c2 = vars\n",
    "    if c2 <= 0:\n",
    "        return [np.inf, np.inf]  # Prevent division errors\n",
    "    eq1 = c1 + (c2 / (1 + r)) - w1  # Budget constraint\n",
    "    eq2 = beta * (1 + r) / c2 - 1 / c1  # First-order condition (FOC)\n",
    "    return [eq1, eq2]\n",
    "\n",
    "# Solving for c1 and c2 when w2 = 0\n",
    "w2_values = [0, 100, 10000]\n",
    "results = []\n",
    "\n",
    "for w2 in w2_values:\n",
    "    initial_guess = [w1 / 2, max((w1 * (1 + r)) / 2, 1e-5)]  # Ensure c2 is positive\n",
    "    c1, c2 = fsolve(equations, initial_guess, args=(w1, w2, beta, r))\n",
    "    results.append([w2, c1, c2])\n",
    "\n",
    "# Convert results to DataFrame\n",
    "results_df = pd.DataFrame(results, columns=[\"w2\", \"c1\", \"c2\"])\n",
    "print(results_df)\n",
    "\n",
    "# Sensitivity analysis on beta and r\n",
    "sensitivity_results = []\n",
    "\n",
    "beta_values = [0.90, 0.95, 1.00]  # Different discount factors\n",
    "r_values = [0.03, 0.05, 0.08]      # Different interest rates\n",
    "\n",
    "for beta in beta_values:\n",
    "    for r in r_values:\n",
    "        initial_guess = [w1 / 2, max((w1 * (1 + r)) / 2, 1e-5)]  # Ensure c2 is positive\n",
    "        c1, c2 = fsolve(equations, initial_guess, args=(w1, 0, beta, r))\n",
    "        sensitivity_results.append([beta, r, c1, c2])\n",
    "\n",
    "# Convert sensitivity results to DataFrame\n",
    "sensitivity_df = pd.DataFrame(sensitivity_results, columns=[\"beta\", \"r\", \"c1\", \"c2\"])\n",
    "print(sensitivity_df)\n"
   ]
  },
  {
   "cell_type": "code",
   "execution_count": null,
   "metadata": {},
   "outputs": [],
   "source": []
  },
  {
   "cell_type": "code",
   "execution_count": null,
   "metadata": {},
   "outputs": [],
   "source": []
  },
  {
   "cell_type": "code",
   "execution_count": null,
   "metadata": {},
   "outputs": [],
   "source": []
  }
 ],
 "metadata": {
  "kernelspec": {
   "display_name": "Python 3",
   "language": "python",
   "name": "python3"
  },
  "language_info": {
   "codemirror_mode": {
    "name": "ipython",
    "version": 3
   },
   "file_extension": ".py",
   "mimetype": "text/x-python",
   "name": "python",
   "nbconvert_exporter": "python",
   "pygments_lexer": "ipython3",
   "version": "3.7.6"
  }
 },
 "nbformat": 4,
 "nbformat_minor": 4
}
